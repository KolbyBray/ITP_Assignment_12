{
 "cells": [
  {
   "cell_type": "code",
   "execution_count": 206,
   "id": "4ddf4b24",
   "metadata": {},
   "outputs": [],
   "source": [
    "import pandas as pd\n",
    "import os\n",
    "import numpy as np\n",
    "\n",
    "os.environ[\"NUMBER_OF_PROCESSORS\"] = '2'\n",
    "\n",
    "import matplotlib.pyplot as plt\n",
    "\n",
    "import sklearn\n",
    "from sklearn import cluster\n",
    "from sklearn.cluster import KMeans\n",
    "from mpl_toolkits.mplot3d import Axes3D\n",
    "from sklearn.preprocessing import scale\n",
    "from sklearn.linear_model import LinearRegression\n",
    "\n",
    "import sklearn.metrics as sm\n",
    "from sklearn import datasets\n",
    "from sklearn.metrics import confusion_matrix, classification_report\n",
    "\n",
    "import warnings\n",
    "warnings.filterwarnings('ignore')"
   ]
  },
  {
   "cell_type": "code",
   "execution_count": 207,
   "id": "7245aa6e",
   "metadata": {},
   "outputs": [
    {
     "name": "stdout",
     "output_type": "stream",
     "text": [
      "<class 'pandas.core.frame.DataFrame'>\n",
      "RangeIndex: 286 entries, 0 to 285\n",
      "Data columns (total 10 columns):\n",
      " #   Column       Non-Null Count  Dtype \n",
      "---  ------       --------------  ----- \n",
      " 0   Class        286 non-null    object\n",
      " 1   Age          286 non-null    object\n",
      " 2   Menopause    286 non-null    object\n",
      " 3   Tumor_Size   286 non-null    object\n",
      " 4   Inv_Nodes    286 non-null    object\n",
      " 5   Node_Caps    278 non-null    object\n",
      " 6   Deg_Malig    286 non-null    int64 \n",
      " 7   Breast       286 non-null    object\n",
      " 8   Breast_Quad  285 non-null    object\n",
      " 9   Irradiat     286 non-null    object\n",
      "dtypes: int64(1), object(9)\n",
      "memory usage: 22.5+ KB\n"
     ]
    }
   ],
   "source": [
    "url = \"https://archive.ics.uci.edu/ml/machine-learning-databases/breast-cancer/breast-cancer.data\"\n",
    "\n",
    "column_names = [\n",
    "    \"Class\", \"Age\", \"Menopause\", \"Tumor_Size\", \"Inv_Nodes\", \"Node_Caps\", \"Deg_Malig\",\n",
    "    \"Breast\", \"Breast_Quad\", \"Irradiat\"\n",
    "]\n",
    "\n",
    "bc_df = pd.read_csv(url, header=None, names=column_names, na_values=\"?\")\n",
    "\n",
    "bc_df.info()"
   ]
  },
  {
   "cell_type": "code",
   "execution_count": 208,
   "id": "e14eb761",
   "metadata": {},
   "outputs": [
    {
     "data": {
      "text/plain": [
       "['Class',\n",
       " 'Age',\n",
       " 'Menopause',\n",
       " 'Tumor_Size',\n",
       " 'Inv_Nodes',\n",
       " 'Node_Caps',\n",
       " 'Deg_Malig',\n",
       " 'Breast',\n",
       " 'Breast_Quad',\n",
       " 'Irradiat']"
      ]
     },
     "execution_count": 208,
     "metadata": {},
     "output_type": "execute_result"
    }
   ],
   "source": [
    "bc_df.columns.tolist()"
   ]
  },
  {
   "cell_type": "code",
   "execution_count": 212,
   "id": "2cd93f7c",
   "metadata": {},
   "outputs": [
    {
     "data": {
      "text/html": [
       "<div>\n",
       "<style scoped>\n",
       "    .dataframe tbody tr th:only-of-type {\n",
       "        vertical-align: middle;\n",
       "    }\n",
       "\n",
       "    .dataframe tbody tr th {\n",
       "        vertical-align: top;\n",
       "    }\n",
       "\n",
       "    .dataframe thead th {\n",
       "        text-align: right;\n",
       "    }\n",
       "</style>\n",
       "<table border=\"1\" class=\"dataframe\">\n",
       "  <thead>\n",
       "    <tr style=\"text-align: right;\">\n",
       "      <th></th>\n",
       "      <th>Class</th>\n",
       "      <th>Age</th>\n",
       "      <th>Menopause</th>\n",
       "      <th>Tumor_Size</th>\n",
       "      <th>Inv_Nodes</th>\n",
       "      <th>Node_Caps</th>\n",
       "      <th>Deg_Malig</th>\n",
       "      <th>Breast</th>\n",
       "      <th>Breast_Quad</th>\n",
       "      <th>Irradiat</th>\n",
       "    </tr>\n",
       "  </thead>\n",
       "  <tbody>\n",
       "    <tr>\n",
       "      <th>0</th>\n",
       "      <td>no-recurrence-events</td>\n",
       "      <td>30-39</td>\n",
       "      <td>premeno</td>\n",
       "      <td>30-34</td>\n",
       "      <td>0-2</td>\n",
       "      <td>no</td>\n",
       "      <td>3</td>\n",
       "      <td>left</td>\n",
       "      <td>left_low</td>\n",
       "      <td>no</td>\n",
       "    </tr>\n",
       "    <tr>\n",
       "      <th>1</th>\n",
       "      <td>no-recurrence-events</td>\n",
       "      <td>40-49</td>\n",
       "      <td>premeno</td>\n",
       "      <td>20-24</td>\n",
       "      <td>0-2</td>\n",
       "      <td>no</td>\n",
       "      <td>2</td>\n",
       "      <td>right</td>\n",
       "      <td>right_up</td>\n",
       "      <td>no</td>\n",
       "    </tr>\n",
       "    <tr>\n",
       "      <th>2</th>\n",
       "      <td>no-recurrence-events</td>\n",
       "      <td>40-49</td>\n",
       "      <td>premeno</td>\n",
       "      <td>20-24</td>\n",
       "      <td>0-2</td>\n",
       "      <td>no</td>\n",
       "      <td>2</td>\n",
       "      <td>left</td>\n",
       "      <td>left_low</td>\n",
       "      <td>no</td>\n",
       "    </tr>\n",
       "    <tr>\n",
       "      <th>3</th>\n",
       "      <td>no-recurrence-events</td>\n",
       "      <td>60-69</td>\n",
       "      <td>ge40</td>\n",
       "      <td>15-19</td>\n",
       "      <td>0-2</td>\n",
       "      <td>no</td>\n",
       "      <td>2</td>\n",
       "      <td>right</td>\n",
       "      <td>left_up</td>\n",
       "      <td>no</td>\n",
       "    </tr>\n",
       "    <tr>\n",
       "      <th>4</th>\n",
       "      <td>no-recurrence-events</td>\n",
       "      <td>40-49</td>\n",
       "      <td>premeno</td>\n",
       "      <td>0-4</td>\n",
       "      <td>0-2</td>\n",
       "      <td>no</td>\n",
       "      <td>2</td>\n",
       "      <td>right</td>\n",
       "      <td>right_low</td>\n",
       "      <td>no</td>\n",
       "    </tr>\n",
       "  </tbody>\n",
       "</table>\n",
       "</div>"
      ],
      "text/plain": [
       "                  Class    Age Menopause Tumor_Size Inv_Nodes Node_Caps  \\\n",
       "0  no-recurrence-events  30-39   premeno      30-34       0-2        no   \n",
       "1  no-recurrence-events  40-49   premeno      20-24       0-2        no   \n",
       "2  no-recurrence-events  40-49   premeno      20-24       0-2        no   \n",
       "3  no-recurrence-events  60-69      ge40      15-19       0-2        no   \n",
       "4  no-recurrence-events  40-49   premeno        0-4       0-2        no   \n",
       "\n",
       "   Deg_Malig Breast Breast_Quad Irradiat  \n",
       "0          3   left    left_low       no  \n",
       "1          2  right    right_up       no  \n",
       "2          2   left    left_low       no  \n",
       "3          2  right     left_up       no  \n",
       "4          2  right   right_low       no  "
      ]
     },
     "execution_count": 212,
     "metadata": {},
     "output_type": "execute_result"
    }
   ],
   "source": [
    "bc_df.head(5)"
   ]
  },
  {
   "cell_type": "code",
   "execution_count": 213,
   "id": "c2263622",
   "metadata": {},
   "outputs": [
    {
     "data": {
      "text/html": [
       "<div>\n",
       "<style scoped>\n",
       "    .dataframe tbody tr th:only-of-type {\n",
       "        vertical-align: middle;\n",
       "    }\n",
       "\n",
       "    .dataframe tbody tr th {\n",
       "        vertical-align: top;\n",
       "    }\n",
       "\n",
       "    .dataframe thead th {\n",
       "        text-align: right;\n",
       "    }\n",
       "</style>\n",
       "<table border=\"1\" class=\"dataframe\">\n",
       "  <thead>\n",
       "    <tr style=\"text-align: right;\">\n",
       "      <th></th>\n",
       "      <th>Age</th>\n",
       "      <th>Tumor_Size</th>\n",
       "      <th>Inv_Nodes</th>\n",
       "      <th>Deg_Malig</th>\n",
       "    </tr>\n",
       "  </thead>\n",
       "  <tbody>\n",
       "    <tr>\n",
       "      <th>0</th>\n",
       "      <td>30-39</td>\n",
       "      <td>30-34</td>\n",
       "      <td>0-2</td>\n",
       "      <td>3</td>\n",
       "    </tr>\n",
       "    <tr>\n",
       "      <th>1</th>\n",
       "      <td>40-49</td>\n",
       "      <td>20-24</td>\n",
       "      <td>0-2</td>\n",
       "      <td>2</td>\n",
       "    </tr>\n",
       "    <tr>\n",
       "      <th>2</th>\n",
       "      <td>40-49</td>\n",
       "      <td>20-24</td>\n",
       "      <td>0-2</td>\n",
       "      <td>2</td>\n",
       "    </tr>\n",
       "    <tr>\n",
       "      <th>3</th>\n",
       "      <td>60-69</td>\n",
       "      <td>15-19</td>\n",
       "      <td>0-2</td>\n",
       "      <td>2</td>\n",
       "    </tr>\n",
       "    <tr>\n",
       "      <th>4</th>\n",
       "      <td>40-49</td>\n",
       "      <td>0-4</td>\n",
       "      <td>0-2</td>\n",
       "      <td>2</td>\n",
       "    </tr>\n",
       "  </tbody>\n",
       "</table>\n",
       "</div>"
      ],
      "text/plain": [
       "     Age Tumor_Size Inv_Nodes  Deg_Malig\n",
       "0  30-39      30-34       0-2          3\n",
       "1  40-49      20-24       0-2          2\n",
       "2  40-49      20-24       0-2          2\n",
       "3  60-69      15-19       0-2          2\n",
       "4  40-49        0-4       0-2          2"
      ]
     },
     "execution_count": 213,
     "metadata": {},
     "output_type": "execute_result"
    }
   ],
   "source": [
    "#Dropping columns with non-numeric data\n",
    "columns_dropped = ['Class', 'Menopause', 'Node_Caps', 'Breast', 'Breast_Quad', 'Irradiat']\n",
    "bc_df_features = bc_df.drop(columns=columns_dropped, axis = 1)\n",
    "bc_df_features.head(5)"
   ]
  },
  {
   "cell_type": "code",
   "execution_count": 214,
   "id": "a1282be7",
   "metadata": {},
   "outputs": [],
   "source": [
    "#COnverting columns with ranges into an average so the code doesn't freak out\n",
    "def convert_age_range_to_average(row):\n",
    "    age_range = row['Age'].split('-')\n",
    "    lower_bound = int(age_range[0])\n",
    "    upper_bound = int(age_range[1])\n",
    "    average_age = (lower_bound + upper_bound) / 2\n",
    "    return average_age\n",
    "\n",
    "def convert_tumor_range_to_average(row):\n",
    "    tumor_range = row['Tumor_Size'].split('-')\n",
    "    lower_bound = int(tumor_range[0])\n",
    "    upper_bound = int(tumor_range[1])\n",
    "    average_tumor = (lower_bound + upper_bound) / 2\n",
    "    return average_tumor\n",
    "\n",
    "def convert_node_range_to_average(row):\n",
    "    node_range = row['Inv_Nodes'].split('-')\n",
    "    lower_bound = int(node_range[0])\n",
    "    upper_bound = int(node_range[1])\n",
    "    average_node = (lower_bound + upper_bound) / 2\n",
    "    return average_node\n",
    "\n",
    "bc_df_features['Age'] = bc_df_features.apply(convert_age_range_to_average, axis=1)\n",
    "bc_df_features['Tumor_Size'] = bc_df_features.apply(convert_tumor_range_to_average, axis=1)\n",
    "bc_df_features['Inv_Nodes'] = bc_df_features.apply(convert_node_range_to_average, axis=1)\n"
   ]
  },
  {
   "cell_type": "code",
   "execution_count": 215,
   "id": "29441223",
   "metadata": {},
   "outputs": [
    {
     "data": {
      "text/plain": [
       "<bound method DataFrame.info of       Age  Tumor_Size  Inv_Nodes  Deg_Malig\n",
       "0    34.5        32.0        1.0          3\n",
       "1    44.5        22.0        1.0          2\n",
       "2    44.5        22.0        1.0          2\n",
       "3    64.5        17.0        1.0          2\n",
       "4    44.5         2.0        1.0          2\n",
       "..    ...         ...        ...        ...\n",
       "281  34.5        32.0        1.0          2\n",
       "282  34.5        22.0        1.0          3\n",
       "283  64.5        22.0        1.0          1\n",
       "284  44.5        32.0        4.0          3\n",
       "285  54.5        32.0        4.0          3\n",
       "\n",
       "[286 rows x 4 columns]>"
      ]
     },
     "execution_count": 215,
     "metadata": {},
     "output_type": "execute_result"
    }
   ],
   "source": [
    "bc_df_features.info\n"
   ]
  },
  {
   "cell_type": "code",
   "execution_count": 229,
   "id": "0f336c05",
   "metadata": {},
   "outputs": [],
   "source": [
    "#Targetting Tumor Size for the Kmeans analysis\n",
    "bc_df_targ = bc_df_features['Tumor_Size']"
   ]
  },
  {
   "cell_type": "code",
   "execution_count": 230,
   "id": "7117fa34",
   "metadata": {},
   "outputs": [],
   "source": [
    "k = 3\n",
    "kmeans = cluster.KMeans(n_clusters=k, n_init = 10)"
   ]
  },
  {
   "cell_type": "code",
   "execution_count": 231,
   "id": "29a06cc9",
   "metadata": {},
   "outputs": [
    {
     "data": {
      "text/html": [
       "<style>#sk-container-id-12 {color: black;}#sk-container-id-12 pre{padding: 0;}#sk-container-id-12 div.sk-toggleable {background-color: white;}#sk-container-id-12 label.sk-toggleable__label {cursor: pointer;display: block;width: 100%;margin-bottom: 0;padding: 0.3em;box-sizing: border-box;text-align: center;}#sk-container-id-12 label.sk-toggleable__label-arrow:before {content: \"▸\";float: left;margin-right: 0.25em;color: #696969;}#sk-container-id-12 label.sk-toggleable__label-arrow:hover:before {color: black;}#sk-container-id-12 div.sk-estimator:hover label.sk-toggleable__label-arrow:before {color: black;}#sk-container-id-12 div.sk-toggleable__content {max-height: 0;max-width: 0;overflow: hidden;text-align: left;background-color: #f0f8ff;}#sk-container-id-12 div.sk-toggleable__content pre {margin: 0.2em;color: black;border-radius: 0.25em;background-color: #f0f8ff;}#sk-container-id-12 input.sk-toggleable__control:checked~div.sk-toggleable__content {max-height: 200px;max-width: 100%;overflow: auto;}#sk-container-id-12 input.sk-toggleable__control:checked~label.sk-toggleable__label-arrow:before {content: \"▾\";}#sk-container-id-12 div.sk-estimator input.sk-toggleable__control:checked~label.sk-toggleable__label {background-color: #d4ebff;}#sk-container-id-12 div.sk-label input.sk-toggleable__control:checked~label.sk-toggleable__label {background-color: #d4ebff;}#sk-container-id-12 input.sk-hidden--visually {border: 0;clip: rect(1px 1px 1px 1px);clip: rect(1px, 1px, 1px, 1px);height: 1px;margin: -1px;overflow: hidden;padding: 0;position: absolute;width: 1px;}#sk-container-id-12 div.sk-estimator {font-family: monospace;background-color: #f0f8ff;border: 1px dotted black;border-radius: 0.25em;box-sizing: border-box;margin-bottom: 0.5em;}#sk-container-id-12 div.sk-estimator:hover {background-color: #d4ebff;}#sk-container-id-12 div.sk-parallel-item::after {content: \"\";width: 100%;border-bottom: 1px solid gray;flex-grow: 1;}#sk-container-id-12 div.sk-label:hover label.sk-toggleable__label {background-color: #d4ebff;}#sk-container-id-12 div.sk-serial::before {content: \"\";position: absolute;border-left: 1px solid gray;box-sizing: border-box;top: 0;bottom: 0;left: 50%;z-index: 0;}#sk-container-id-12 div.sk-serial {display: flex;flex-direction: column;align-items: center;background-color: white;padding-right: 0.2em;padding-left: 0.2em;position: relative;}#sk-container-id-12 div.sk-item {position: relative;z-index: 1;}#sk-container-id-12 div.sk-parallel {display: flex;align-items: stretch;justify-content: center;background-color: white;position: relative;}#sk-container-id-12 div.sk-item::before, #sk-container-id-12 div.sk-parallel-item::before {content: \"\";position: absolute;border-left: 1px solid gray;box-sizing: border-box;top: 0;bottom: 0;left: 50%;z-index: -1;}#sk-container-id-12 div.sk-parallel-item {display: flex;flex-direction: column;z-index: 1;position: relative;background-color: white;}#sk-container-id-12 div.sk-parallel-item:first-child::after {align-self: flex-end;width: 50%;}#sk-container-id-12 div.sk-parallel-item:last-child::after {align-self: flex-start;width: 50%;}#sk-container-id-12 div.sk-parallel-item:only-child::after {width: 0;}#sk-container-id-12 div.sk-dashed-wrapped {border: 1px dashed gray;margin: 0 0.4em 0.5em 0.4em;box-sizing: border-box;padding-bottom: 0.4em;background-color: white;}#sk-container-id-12 div.sk-label label {font-family: monospace;font-weight: bold;display: inline-block;line-height: 1.2em;}#sk-container-id-12 div.sk-label-container {text-align: center;}#sk-container-id-12 div.sk-container {/* jupyter's `normalize.less` sets `[hidden] { display: none; }` but bootstrap.min.css set `[hidden] { display: none !important; }` so we also need the `!important` here to be able to override the default hidden behavior on the sphinx rendered scikit-learn.org. See: https://github.com/scikit-learn/scikit-learn/issues/21755 */display: inline-block !important;position: relative;}#sk-container-id-12 div.sk-text-repr-fallback {display: none;}</style><div id=\"sk-container-id-12\" class=\"sk-top-container\"><div class=\"sk-text-repr-fallback\"><pre>KMeans(n_clusters=3, n_init=10)</pre><b>In a Jupyter environment, please rerun this cell to show the HTML representation or trust the notebook. <br />On GitHub, the HTML representation is unable to render, please try loading this page with nbviewer.org.</b></div><div class=\"sk-container\" hidden><div class=\"sk-item\"><div class=\"sk-estimator sk-toggleable\"><input class=\"sk-toggleable__control sk-hidden--visually\" id=\"sk-estimator-id-12\" type=\"checkbox\" checked><label for=\"sk-estimator-id-12\" class=\"sk-toggleable__label sk-toggleable__label-arrow\">KMeans</label><div class=\"sk-toggleable__content\"><pre>KMeans(n_clusters=3, n_init=10)</pre></div></div></div></div></div>"
      ],
      "text/plain": [
       "KMeans(n_clusters=3, n_init=10)"
      ]
     },
     "execution_count": 231,
     "metadata": {},
     "output_type": "execute_result"
    }
   ],
   "source": [
    "kmeans.fit(bc_df_features)"
   ]
  },
  {
   "cell_type": "code",
   "execution_count": 232,
   "id": "c4501a73",
   "metadata": {},
   "outputs": [],
   "source": [
    "labels = kmeans.labels_\n",
    "centroids = kmeans.cluster_centers_"
   ]
  },
  {
   "cell_type": "code",
   "execution_count": 233,
   "id": "2679cff6",
   "metadata": {},
   "outputs": [
    {
     "data": {
      "text/plain": [
       "array([1, 1, 1, 0, 0, 0, 2, 0, 2, 1, 0, 2, 0, 2, 1, 2, 1, 2, 2, 2, 2, 0,\n",
       "       1, 2, 2, 1, 0, 2, 2, 2, 2, 0, 0, 0, 0, 1, 0, 0, 0, 1, 0, 2, 0, 0,\n",
       "       2, 2, 1, 2, 1, 1, 0, 1, 0, 0, 2, 2, 0, 0, 2, 0, 1, 0, 0, 1, 1, 0,\n",
       "       1, 0, 2, 2, 0, 1, 0, 0, 1, 0, 0, 1, 2, 1, 0, 0, 0, 0, 1, 2, 2, 0,\n",
       "       0, 2, 1, 0, 2, 0, 0, 1, 2, 0, 1, 1, 1, 2, 2, 1, 0, 1, 1, 1, 1, 2,\n",
       "       2, 0, 1, 0, 1, 0, 1, 1, 1, 0, 0, 0, 2, 2, 0, 0, 1, 1, 2, 1, 1, 2,\n",
       "       1, 2, 2, 1, 1, 0, 1, 1, 2, 0, 0, 2, 2, 1, 2, 2, 1, 2, 2, 2, 2, 0,\n",
       "       1, 2, 2, 2, 2, 1, 1, 1, 0, 2, 2, 1, 1, 2, 0, 1, 1, 1, 2, 0, 2, 1,\n",
       "       1, 0, 2, 1, 1, 1, 1, 2, 2, 1, 2, 0, 0, 0, 1, 1, 2, 1, 2, 2, 0, 0,\n",
       "       0, 2, 2, 0, 2, 2, 2, 1, 2, 2, 2, 1, 1, 0, 1, 2, 2, 1, 0, 1, 2, 1,\n",
       "       1, 1, 2, 0, 1, 1, 1, 2, 2, 2, 2, 1, 1, 0, 2, 2, 1, 1, 1, 1, 0, 1,\n",
       "       2, 0, 1, 1, 1, 2, 2, 1, 1, 2, 1, 2, 1, 1, 1, 1, 2, 2, 2, 1, 2, 0,\n",
       "       0, 1, 1, 0, 1, 1, 2, 2, 1, 2, 2, 1, 1, 0, 2, 2, 2, 1, 1, 0, 1, 2])"
      ]
     },
     "execution_count": 233,
     "metadata": {},
     "output_type": "execute_result"
    }
   ],
   "source": [
    "labels"
   ]
  },
  {
   "cell_type": "code",
   "execution_count": 234,
   "id": "4a2436de",
   "metadata": {},
   "outputs": [
    {
     "data": {
      "text/html": [
       "<div>\n",
       "<style scoped>\n",
       "    .dataframe tbody tr th:only-of-type {\n",
       "        vertical-align: middle;\n",
       "    }\n",
       "\n",
       "    .dataframe tbody tr th {\n",
       "        vertical-align: top;\n",
       "    }\n",
       "\n",
       "    .dataframe thead th {\n",
       "        text-align: right;\n",
       "    }\n",
       "</style>\n",
       "<table border=\"1\" class=\"dataframe\">\n",
       "  <thead>\n",
       "    <tr style=\"text-align: right;\">\n",
       "      <th>col_0</th>\n",
       "      <th>0</th>\n",
       "      <th>1</th>\n",
       "      <th>2</th>\n",
       "    </tr>\n",
       "    <tr>\n",
       "      <th>Tumor_Size</th>\n",
       "      <th></th>\n",
       "      <th></th>\n",
       "      <th></th>\n",
       "    </tr>\n",
       "  </thead>\n",
       "  <tbody>\n",
       "    <tr>\n",
       "      <th>2.0</th>\n",
       "      <td>6</td>\n",
       "      <td>2</td>\n",
       "      <td>0</td>\n",
       "    </tr>\n",
       "    <tr>\n",
       "      <th>7.0</th>\n",
       "      <td>3</td>\n",
       "      <td>1</td>\n",
       "      <td>0</td>\n",
       "    </tr>\n",
       "    <tr>\n",
       "      <th>12.0</th>\n",
       "      <td>26</td>\n",
       "      <td>2</td>\n",
       "      <td>0</td>\n",
       "    </tr>\n",
       "    <tr>\n",
       "      <th>17.0</th>\n",
       "      <td>20</td>\n",
       "      <td>10</td>\n",
       "      <td>0</td>\n",
       "    </tr>\n",
       "    <tr>\n",
       "      <th>22.0</th>\n",
       "      <td>23</td>\n",
       "      <td>27</td>\n",
       "      <td>0</td>\n",
       "    </tr>\n",
       "    <tr>\n",
       "      <th>27.0</th>\n",
       "      <td>0</td>\n",
       "      <td>24</td>\n",
       "      <td>30</td>\n",
       "    </tr>\n",
       "    <tr>\n",
       "      <th>32.0</th>\n",
       "      <td>0</td>\n",
       "      <td>27</td>\n",
       "      <td>33</td>\n",
       "    </tr>\n",
       "    <tr>\n",
       "      <th>37.0</th>\n",
       "      <td>0</td>\n",
       "      <td>11</td>\n",
       "      <td>8</td>\n",
       "    </tr>\n",
       "    <tr>\n",
       "      <th>42.0</th>\n",
       "      <td>0</td>\n",
       "      <td>4</td>\n",
       "      <td>18</td>\n",
       "    </tr>\n",
       "    <tr>\n",
       "      <th>47.0</th>\n",
       "      <td>0</td>\n",
       "      <td>0</td>\n",
       "      <td>3</td>\n",
       "    </tr>\n",
       "    <tr>\n",
       "      <th>52.0</th>\n",
       "      <td>0</td>\n",
       "      <td>0</td>\n",
       "      <td>8</td>\n",
       "    </tr>\n",
       "  </tbody>\n",
       "</table>\n",
       "</div>"
      ],
      "text/plain": [
       "col_0        0   1   2\n",
       "Tumor_Size            \n",
       "2.0          6   2   0\n",
       "7.0          3   1   0\n",
       "12.0        26   2   0\n",
       "17.0        20  10   0\n",
       "22.0        23  27   0\n",
       "27.0         0  24  30\n",
       "32.0         0  27  33\n",
       "37.0         0  11   8\n",
       "42.0         0   4  18\n",
       "47.0         0   0   3\n",
       "52.0         0   0   8"
      ]
     },
     "execution_count": 234,
     "metadata": {},
     "output_type": "execute_result"
    }
   ],
   "source": [
    "pd.crosstab(bc_df_targ, labels)"
   ]
  },
  {
   "cell_type": "code",
   "execution_count": 235,
   "id": "72ae31c4",
   "metadata": {},
   "outputs": [
    {
     "data": {
      "image/png": "[encoded data removed]",
      "text/plain": [
       "<Figure size 640x480 with 1 Axes>"
      ]
     },
     "metadata": {},
     "output_type": "display_data"
    },
    {
     "name": "stdout",
     "output_type": "stream",
     "text": [
      "Slope: -42298.322515509935\n",
      "Intercept: 463444.36809615255\n"
     ]
    }
   ],
   "source": [
    "#K-Means clustering for different values of k\n",
    "k_values = range(1, 11)\n",
    "wcss_values = []\n",
    "\n",
    "for k in k_values:\n",
    "    kmeans = KMeans(n_clusters=k, n_init=10, random_state=42)\n",
    "    kmeans.fit(data)\n",
    "    wcss_values.append(kmeans.inertia_)\n",
    "\n",
    "#Elbow curve\n",
    "plt.plot(k_values, wcss_values, marker='o')\n",
    "plt.xlabel('Number of Clusters (k)')\n",
    "plt.ylabel('Within-Cluster Sum of Squares (WCSS)')\n",
    "plt.title('Elbow Curve')\n",
    "plt.show()\n",
    "\n",
    "#Linear Regression\n",
    "X = np.array(k_values).reshape(-1, 1)\n",
    "Y = np.array(wcss_values)\n",
    "\n",
    "regression_model = LinearRegression().fit(X, Y)\n",
    "\n",
    "slope = regression_model.coef_[0]\n",
    "intercept = regression_model.intercept_\n",
    "\n",
    "print(f\"Slope: {slope}\")\n",
    "print(f\"Intercept: {intercept}\")\n",
    "#We choose the optimal k value based on the middle of the bend.\n",
    "#Seen down below, it appears that 3 is our optimal k value."
   ]
  },
  {
   "cell_type": "code",
   "execution_count": 242,
   "id": "cfd29a22",
   "metadata": {},
   "outputs": [
    {
     "data": {
      "image/png": "[encoded data removed]",
      "text/plain": [
       "<Figure size 640x480 with 1 Axes>"
      ]
     },
     "metadata": {},
     "output_type": "display_data"
    }
   ],
   "source": [
    "#Based on the elbow of the elbow curve, 3 is optimal k\n",
    "optimal_k = 3\n",
    "\n",
    "#KMeans clustering with 3\n",
    "optimal_kmeans = KMeans(n_clusters=optimal_k, n_init=10, random_state=42)\n",
    "optimal_kmeans.fit(bc_df_features[['Tumor_Size', 'Age']])\n",
    "\n",
    "#Creating the scatter plot with clusters\n",
    "plt.scatter(bc_df_features['Age'], bc_df_features['Tumor_Size'], c=optimal_kmeans.labels_, cmap='viridis', alpha=0.5)\n",
    "plt.scatter(optimal_kmeans.cluster_centers_[:, 0], optimal_kmeans.cluster_centers_[:, 1], c='blue', marker='X', s=100, label='Centroids')\n",
    "plt.xlabel('Age')\n",
    "plt.ylabel('Tumor Size')\n",
    "plt.title(f'Optimal Clusters (k={optimal_k}) with Centroids')\n",
    "plt.legend()\n",
    "plt.show()\n",
    "\n",
    "#the centroids are all over the place, but I think that it's because I had to mess with the data so much\n",
    "#Because all of the columns were ranges, not actual integers, I decided to just take the average of the range,\n",
    "#so I ended up with some pretty wonky data.  "
   ]
  }
 ],
 "metadata": {
  "kernelspec": {
   "display_name": "Python 3 (ipykernel)",
   "language": "python",
   "name": "python3"
  },
  "language_info": {
   "codemirror_mode": {
    "name": "ipython",
    "version": 3
   },
   "file_extension": ".py",
   "mimetype": "text/x-python",
   "name": "python",
   "nbconvert_exporter": "python",
   "pygments_lexer": "ipython3",
   "version": "3.11.5"
  }
 },
 "nbformat": 4,
 "nbformat_minor": 5
}
